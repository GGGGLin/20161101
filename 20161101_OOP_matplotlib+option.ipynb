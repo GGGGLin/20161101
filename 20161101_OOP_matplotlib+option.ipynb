{
 "cells": [
  {
   "cell_type": "code",
   "execution_count": 29,
   "metadata": {
    "collapsed": false
   },
   "outputs": [],
   "source": [
    "class Option_Pricing:\n",
    "    def __init__(self, S, K, Sigma, r, T):\n",
    "        self.S = S \n",
    "        self.K = K \n",
    "        self.Sigma = Sigma\n",
    "        self.r = r\n",
    "        self.T = T\n",
    "    def D1(self):\n",
    "        from math import log, sqrt, exp\n",
    "        D1 = (log(self.S / self.K) + (self.r + 0.5 * (self.Sigma ** 2)) * self.T) / (self.Sigma * sqrt(self.T))\n",
    "        return(D1)\n",
    "    def D2(self):\n",
    "        from math import log, sqrt, exp\n",
    "        from scipy import stats\n",
    "        D1 = (log(self.S / self.K) + (self.r + 0.5 * (self.Sigma ** 2)) * self.T) / (self.Sigma * sqrt(self.T))\n",
    "        D2 = D1 - self.Sigma * sqrt(self.T)\n",
    "        return(D2)\n",
    "    def BSM(self, type = 'Call'): #1是買權 0是賣權\n",
    "        from math import log, sqrt, exp\n",
    "        from scipy import stats\n",
    "        if type == 'Call':\n",
    "            C0 = self.S  * stats.norm.cdf(self.D1(), 0, 1) - self.K * exp(-self.r * self.T) * stats.norm.cdf(self.D2(), 0, 1)\n",
    "            return(C0)\n",
    "        elif type == 'Put':\n",
    "            P0 = self.K * exp(-self.r * self.T) * stats.norm.cdf(-self.D2(), 0, 1) - self.S * stats.norm.cdf(-self.D1(), 0, 1)\n",
    "            return(P0)\n",
    "    def MCS(self, N = 100000, type = 'call'): \n",
    "        import numpy as np \n",
    "        z = np.random.standard_normal(N)\n",
    "        ST = self.S * np.exp((self.r-0.5 * self.Sigma ** 2) * self.T + self.Sigma * np.sqrt(self.T) * z)\n",
    "        if type == 'Call':\n",
    "            CT = np.maximum(ST - self.K, 0)\n",
    "            C0 = np.sum(np.exp(-self.r * self.T)* CT) / N\n",
    "            return(C0)\n",
    "        elif type == 'Put':\n",
    "            PT = np.maximum(self.K - ST, 0)\n",
    "            P0 = np.sum(np.exp(-self.r * self.T)* PT) / N\n",
    "            return(P0)\n",
    "    def display(self, type, res):\n",
    "        print('標的價格：' + str(self.S) + '\\n執行價：' + str(self.K) + '\\nSigma:' + str(self.Sigma) + '\\n無風險利率：' + str(self.r) + '\\n期間：' + str(self.T) + '年到期')\n",
    "        print('{Type}價格: {Res}'.format(Type=type, Res=str(res)))    # 新型態的輸出寫法 .format()\n",
    "    def Plot(self, type):\n",
    "        import matplotlib.pyplot as plt\n",
    "        import numpy as np\n",
    "        %matplotlib inline\n",
    "        self.Interval = 1000\n",
    "        ST = np.arange(self.K - self.Interval, self.K + self.Interval)\n",
    "        #Payoff_LongCall = np.maximum(ST - self.K, 0) - self.BSM('Call')  #Long Call\n",
    "        #Payoff_ShortCall = - Payoff_LongCall                         #Short Call\n",
    "        #Payoff_LongPut = np.maximum(self.K - ST, 0) - self.BSM(\"Put\")    #Long Put\n",
    "        #Payoff_ShortPut = - Payoff_LongPut\n",
    "        #Premium_Call = self.BSM('Call')\n",
    "        #Premium_Put = self.BSM('Put')\n",
    "        \n",
    "        plt.ylim(-1500,1500) #Y軸\n",
    "        plt.xlim(self.K - self.Interval, self.K + self.Interval)\n",
    "        if type == 'LongCall':\n",
    "            Premium_Call = int(self.BSM('Call'))\n",
    "            Payoff_LongCall = np.maximum(ST - self.K, 0) - Premium_Call \n",
    "            \n",
    "            \n",
    "            plt.title('LongCall')\n",
    "            plt.plot(ST, Payoff_LongCall, linewidth = 1)\n",
    "            plt.axhline(0, color = 'r', ls= 'dashed')\n",
    "            plt.axhline(0 - Premium_Call, color = 'k', ls= 'dashed')\n",
    "            plt.axvline(K + Premium_Call, color = 'k', ls= 'dashed')\n",
    "            plt.text(ST[0], -Premium_Call + 10, -Premium_Call, fontsize=10)\n",
    "            plt.text(K + Premium_Call, 0, K + Premium_Call, fontsize=10)\n",
    "            plt.text(self.K, 0, self.K, fontsize=10)\n",
    "            #plt.axvline(K + Premium_Call, color = 'k', ls='--')\n",
    "        elif type == 'ShortCall':\n",
    "            Premium_Call = int(self.BSM('Call'))\n",
    "            Payoff_LongCall = np.maximum(ST - self.K, 0) - Premium_Call  \n",
    "            Payoff_ShortCall = - Payoff_LongCall\n",
    "            \n",
    "            \n",
    "            plt.title('ShortCall')\n",
    "            plt.plot(ST, Payoff_ShortCall, linewidth = 1)\n",
    "            plt.axhline(0, color = 'R', ls= 'dashed')\n",
    "            plt.axhline(0 + Premium_Call, color = 'K', ls= 'dashed')\n",
    "            plt.axvline(K + Premium_Call, color = 'k', ls= 'dashed')\n",
    "            plt.text(ST[0], Premium_Call + 10, Premium_Call, fontsize=10)\n",
    "            plt.text(K + Premium_Call, 0, K + Premium_Call, fontsize=10)\n",
    "            plt.text(self.K, 0, self.K, fontsize=10)\n",
    "            #plt.axvline(K + Premium_Call, color = 'k', ls='--')\n",
    "        elif type == 'LongPut':\n",
    "            Premium_Put = int(self.BSM('Put'))\n",
    "            Payoff_LongPut = np.maximum(self.K - ST, 0) - Premium_Put   \n",
    "            \n",
    "            plt.title('LongPut')\n",
    "            plt.plot(ST, Payoff_LongPut, linewidth = 1)\n",
    "            plt.axhline(0, color = 'r', ls= 'dashed')\n",
    "            plt.axhline(0 - Premium_Put, color = 'k', ls= 'dashed')\n",
    "            plt.axvline(K - Premium_Put, color = 'k', ls= 'dashed')\n",
    "            plt.text(ST[0], -Premium_Put + 10, -Premium_Put, fontsize=10)\n",
    "            plt.text(K - Premium_Put, 0, K - Premium_Put, fontsize=10)\n",
    "            plt.text(self.K, 0, self.K, fontsize=10)\n",
    "            #plt.axvline(K - Premium_Put, color = 'k', ls='--')\n",
    "        elif type == 'ShortPut':\n",
    "            Premium_Put = int(self.BSM('Put'))\n",
    "            Payoff_LongPut = np.maximum(self.K - ST, 0) - Premium_Put   \n",
    "            Payoff_ShortPut = - Payoff_LongPut\n",
    "            \n",
    "            \n",
    "            plt.title('ShortPut')\n",
    "            plt.plot(ST, Payoff_ShortPut, linewidth = 1)\n",
    "            plt.axhline(0, color = 'R', ls= 'dashed')\n",
    "            plt.axhline(0 + Premium_Put, color = 'K', ls= '--')\n",
    "            plt.axvline(K - Premium_Put, color = 'k', ls= 'dashed')\n",
    "            plt.text(ST[0], Premium_Put + 10, Premium_Put, fontsize=10)\n",
    "            plt.text(K - Premium_Put, 0, K - Premium_Put, fontsize=10)\n",
    "            plt.text(self.K, 0, self.K, fontsize=10)\n",
    "            #plt.axvline(K - Premium_Put, color = 'k', ls='--')\n",
    "        plt.axvline(K, color = 'k', ls='--')\n",
    "        plt.show()"
   ]
  },
  {
   "cell_type": "markdown",
   "metadata": {},
   "source": [
    "# .format\n",
    "    https://pyformat.info/\n",
    "    http://openhome.cc/Gossip/Python/StringFormat.html"
   ]
  },
  {
   "cell_type": "code",
   "execution_count": 30,
   "metadata": {
    "collapsed": false
   },
   "outputs": [],
   "source": [
    "S = 9000\n",
    "K = 9100\n",
    "Sigma = 0.2\n",
    "r = 0.05\n",
    "T = 0.5\n",
    "Premium_Call = 179\n",
    "Premium_Put = 185\n",
    "OP = Option_Pricing(S, K, Sigma, r, T)"
   ]
  },
  {
   "cell_type": "code",
   "execution_count": 31,
   "metadata": {
    "collapsed": false,
    "scrolled": true
   },
   "outputs": [
    {
     "name": "stdout",
     "output_type": "stream",
     "text": [
      "標的價格：9000\n",
      "執行價：9100\n",
      "Sigma:0.2\n",
      "無風險利率：0.05\n",
      "期間：0.5年到期\n",
      "Call價格: 568.618601762\n"
     ]
    }
   ],
   "source": [
    "OP.BSM()\n",
    "OP.display(\"Call\", OP.BSM('Call'))"
   ]
  },
  {
   "cell_type": "code",
   "execution_count": 33,
   "metadata": {
    "collapsed": false,
    "scrolled": false
   },
   "outputs": [
    {
     "data": {
      "image/png": "[encoded data removed]",
      "text/plain": [
       "<matplotlib.figure.Figure at 0x8707438>"
      ]
     },
     "metadata": {},
     "output_type": "display_data"
    }
   ],
   "source": [
    "#LongCall\n",
    "#ShortCall\n",
    "#LongPut\n",
    "#ShortPut\n",
    "OP.Plot('LongCall')"
   ]
  },
  {
   "cell_type": "code",
   "execution_count": 34,
   "metadata": {
    "collapsed": false
   },
   "outputs": [
    {
     "data": {
      "image/png": "[encoded data removed]",
      "text/plain": [
       "<matplotlib.figure.Figure at 0x8354978>"
      ]
     },
     "metadata": {},
     "output_type": "display_data"
    }
   ],
   "source": [
    "OP.Plot('ShortCall')"
   ]
  },
  {
   "cell_type": "code",
   "execution_count": 35,
   "metadata": {
    "collapsed": false
   },
   "outputs": [
    {
     "data": {
      "image/png": "[encoded data removed]",
      "text/plain": [
       "<matplotlib.figure.Figure at 0x5f584e0>"
      ]
     },
     "metadata": {},
     "output_type": "display_data"
    }
   ],
   "source": [
    "OP.Plot('LongPut')"
   ]
  },
  {
   "cell_type": "code",
   "execution_count": 36,
   "metadata": {
    "collapsed": false
   },
   "outputs": [
    {
     "data": {
      "image/png": "[encoded data removed]",
      "text/plain": [
       "<matplotlib.figure.Figure at 0x85a12b0>"
      ]
     },
     "metadata": {},
     "output_type": "display_data"
    }
   ],
   "source": [
    "OP.Plot('ShortPut')"
   ]
  },
  {
   "cell_type": "code",
   "execution_count": null,
   "metadata": {
    "collapsed": false
   },
   "outputs": [],
   "source": []
  },
  {
   "cell_type": "code",
   "execution_count": null,
   "metadata": {
    "collapsed": true
   },
   "outputs": [],
   "source": []
  }
 ],
 "metadata": {
  "anaconda-cloud": {},
  "kernelspec": {
   "display_name": "Python [Root]",
   "language": "python",
   "name": "Python [Root]"
  },
  "language_info": {
   "codemirror_mode": {
    "name": "ipython",
    "version": 3
   },
   "file_extension": ".py",
   "mimetype": "text/x-python",
   "name": "python",
   "nbconvert_exporter": "python",
   "pygments_lexer": "ipython3",
   "version": "3.5.2"
  }
 },
 "nbformat": 4,
 "nbformat_minor": 0
}
